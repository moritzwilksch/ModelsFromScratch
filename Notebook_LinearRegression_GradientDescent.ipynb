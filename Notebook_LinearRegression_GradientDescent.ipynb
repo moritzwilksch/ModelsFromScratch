{
 "cells": [
  {
   "cell_type": "markdown",
   "source": [
    "# Linear Regression using Gradient Descent"
   ],
   "metadata": {
    "collapsed": false,
    "pycharm": {
     "name": "#%% md\n"
    }
   }
  },
  {
   "cell_type": "code",
   "execution_count": 2,
   "outputs": [],
   "source": [
    "import numpy as np\n",
    "import matplotlib.pyplot as plt\n",
    "import seaborn as sns\n",
    "import pandas as pd\n",
    "sns.set_style('ticks')\n",
    "# %%\n",
    "df = sns.load_dataset('tips')\n",
    "X = df[['total_bill', 'size']].values\n",
    "y = df.tip.values"
   ],
   "metadata": {
    "collapsed": false,
    "pycharm": {
     "name": "#%%\n"
    }
   }
  },
  {
   "cell_type": "markdown",
   "source": [
    "## `sklearn` Model as Benchmark"
   ],
   "metadata": {
    "collapsed": false,
    "pycharm": {
     "name": "#%% md\n"
    }
   }
  },
  {
   "cell_type": "code",
   "execution_count": 3,
   "outputs": [
    {
     "name": "stdout",
     "output_type": "stream",
     "text": [
      "===== BENCHMARK: SKLEARN REGRESSION =====\n",
      "R^2 = 0.46786930879612587\n",
      "MAE = 0.7390035049097028\n",
      "Coeficients:\n",
      "[0.09271334 0.19259779]\n",
      "Intercept: 0.6689447408125027\n",
      "=========================================\n"
     ]
    }
   ],
   "source": [
    "# ===== BENCHMARK: SKLEARN REGRESSION =====\n",
    "from sklearn.linear_model import LinearRegression\n",
    "from sklearn.metrics import mean_absolute_error\n",
    "\n",
    "sklearn_benchmark = LinearRegression()\n",
    "sklearn_benchmark.fit(X, y)\n",
    "print(heading := \"===== BENCHMARK: SKLEARN REGRESSION =====\")\n",
    "print(f\"R^2 = {sklearn_benchmark.score(X, y)}\")\n",
    "print(f\"MAE = {mean_absolute_error(y, sklearn_benchmark.predict(X))}\")\n",
    "print(f\"Coeficients:\\n{sklearn_benchmark.coef_}\")\n",
    "print(f\"Intercept: {sklearn_benchmark.intercept_}\")\n",
    "print(\"=\" * len(heading))"
   ],
   "metadata": {
    "collapsed": false,
    "pycharm": {
     "name": "#%%\n"
    }
   }
  },
  {
   "cell_type": "markdown",
   "source": [
    "## Scratch Model"
   ],
   "metadata": {
    "collapsed": false,
    "pycharm": {
     "name": "#%% md\n"
    }
   }
  },
  {
   "cell_type": "code",
   "execution_count": 4,
   "outputs": [
    {
     "data": {
      "text/plain": "<Figure size 432x288 with 1 Axes>",
      "image/png": "[encoded data removed]"
     },
     "metadata": {},
     "output_type": "display_data"
    },
    {
     "name": "stdout",
     "output_type": "stream",
     "text": [
      "===== SCRATCH MODEL =====\n",
      "R^2 = 0.43874703801599624\n",
      "MAE = 0.7738108770295066\n",
      "Coeficients:\n",
      "[0.07096954 0.50155886]\n",
      "Intercept: 0.43770563909922244\n",
      "=========================\n"
     ]
    }
   ],
   "source": [
    "np.random.seed(1234)\n",
    "\n",
    "\n",
    "class ScratchModel:\n",
    "\n",
    "    def __init__(self) -> None:\n",
    "        self.weights = None\n",
    "        self.bias = None\n",
    "        self.X = None\n",
    "        self.y = None\n",
    "        self.loss = []\n",
    "\n",
    "    def sse(self) -> np.ndarray:\n",
    "        \"\"\"Calculates mean sum of squared errors (loss) over all training samples with current weights and bias\"\"\"\n",
    "        preds = self.predict(self.X)\n",
    "        return 1 / len(self.X) * np.sum((self.y - preds) ** 2)\n",
    "\n",
    "    def derived_sse_wrt_weights(self) -> np.ndarray:\n",
    "        \"\"\" Derivate of loss function with respect to weights\"\"\"\n",
    "        return 2 / len(self.X) * np.sum(self.sse() * self.X)\n",
    "\n",
    "    def derived_sse_wrt_bias(self) -> np.ndarray:\n",
    "        \"\"\" Derivate of loss function with respect to bias\"\"\"\n",
    "        return 2 / len(self.X) * np.sum(self.sse() * 1)\n",
    "\n",
    "    def fit(self, X: np.ndarray, y: np.ndarray, n_iter: int = 1000, learning_rate: int = 0.000001):\n",
    "        \"\"\"Perform gradient descent on data X, y with `n_iter` iterations.\"\"\"\n",
    "        assert len(X) == len(y)\n",
    "\n",
    "        # set params X and y\n",
    "        self.X = X\n",
    "        self.y = y\n",
    "\n",
    "        # initialize weights and bias randomly\n",
    "        self.weights = np.random.rand(self.X.shape[1])\n",
    "        self.bias = np.random.rand()\n",
    "\n",
    "        for _ in range(n_iter):\n",
    "            # save loss for logging\n",
    "            self.loss.append(self.sse())\n",
    "\n",
    "            # calculate gradient w.r.t. weights (d/dw) and gradient w.r.t. bias (d/db)\n",
    "            gradient_weights = self.derived_sse_wrt_weights()\n",
    "            gradient_bias = self.derived_sse_wrt_bias()\n",
    "\n",
    "            # update weights and biases\n",
    "            self.weights -= learning_rate * gradient_weights\n",
    "            self.bias -= learning_rate * gradient_bias\n",
    "\n",
    "    def predict(self, X: np.ndarray):\n",
    "        \"\"\"Given the model is trained, predicts output on data X.\"\"\"\n",
    "        return X @ self.weights + self.bias\n",
    "\n",
    "\n",
    "model = ScratchModel()\n",
    "model.fit(X, y)\n",
    "plt.plot(model.loss)\n",
    "plt.title(\"Loss over Time\")\n",
    "plt.xlabel(\"Iteration\")\n",
    "plt.ylabel(\"Loss (Mean SSE)\")\n",
    "plt.show()\n",
    "\n",
    "# %%\n",
    "from sklearn.metrics import explained_variance_score\n",
    "\n",
    "print(heading := \"===== SCRATCH MODEL =====\")\n",
    "print(f\"R^2 = {explained_variance_score(y, model.predict(X))}\")\n",
    "print(f\"MAE = {mean_absolute_error(y, model.predict(X))}\")\n",
    "print(f\"Coeficients:\\n{model.weights}\")\n",
    "print(f\"Intercept: {model.bias}\")\n",
    "print(\"=\" * len(heading))"
   ],
   "metadata": {
    "collapsed": false,
    "pycharm": {
     "name": "#%%\n"
    }
   }
  }
 ],
 "metadata": {
  "kernelspec": {
   "display_name": "Python 3",
   "language": "python",
   "name": "python3"
  },
  "language_info": {
   "codemirror_mode": {
    "name": "ipython",
    "version": 2
   },
   "file_extension": ".py",
   "mimetype": "text/x-python",
   "name": "python",
   "nbconvert_exporter": "python",
   "pygments_lexer": "ipython2",
   "version": "2.7.6"
  }
 },
 "nbformat": 4,
 "nbformat_minor": 0
}